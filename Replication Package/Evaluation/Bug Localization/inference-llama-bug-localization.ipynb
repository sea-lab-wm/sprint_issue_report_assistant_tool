{
 "cells": [
  {
   "cell_type": "code",
   "execution_count": null,
   "metadata": {
    "collapsed": true,
    "execution": {
     "iopub.execute_input": "2024-10-08T20:00:04.962312Z",
     "iopub.status.busy": "2024-10-08T20:00:04.961855Z",
     "iopub.status.idle": "2024-10-08T20:02:43.659276Z",
     "shell.execute_reply": "2024-10-08T20:02:43.658034Z",
     "shell.execute_reply.started": "2024-10-08T20:00:04.962257Z"
    },
    "jupyter": {
     "outputs_hidden": true
    },
    "trusted": true
   },
   "outputs": [],
   "source": [
    "!pip install -qqq -U git+https://github.com/huggingface/transformers.git@e03a9cc\n",
    "!pip install -qqq -U datasets\n",
    "!pip install -qqq -U loralib\n",
    "!pip install -qqq -U einops\n",
    "!pip install -qqq -U git+https://github.com/huggingface/peft.git@42a184f\n",
    "!pip install -q -U trl\n",
    "!pip install -qqq -U bitsandbytes"
   ]
  },
  {
   "cell_type": "code",
   "execution_count": 3,
   "metadata": {
    "execution": {
     "iopub.execute_input": "2024-10-08T19:44:57.738384Z",
     "iopub.status.busy": "2024-10-08T19:44:57.737923Z",
     "iopub.status.idle": "2024-10-08T19:45:19.278196Z",
     "shell.execute_reply": "2024-10-08T19:45:19.277135Z",
     "shell.execute_reply.started": "2024-10-08T19:44:57.738339Z"
    },
    "trusted": true
   },
   "outputs": [],
   "source": [
    "import torch\n",
    "from transformers import (\n",
    "    AutoModelForCausalLM,\n",
    "    AutoTokenizer,\n",
    "    BitsAndBytesConfig,\n",
    "    HfArgumentParser,\n",
    "    TrainingArguments,\n",
    "    pipeline,\n",
    "    logging,\n",
    ")\n",
    "from datasets import load_dataset\n",
    "from peft import PeftConfig, PeftModel\n",
    "from trl import SFTTrainer"
   ]
  },
  {
   "cell_type": "code",
   "execution_count": 4,
   "metadata": {
    "execution": {
     "iopub.execute_input": "2024-10-08T19:45:25.596968Z",
     "iopub.status.busy": "2024-10-08T19:45:25.595844Z",
     "iopub.status.idle": "2024-10-08T19:45:25.615108Z",
     "shell.execute_reply": "2024-10-08T19:45:25.614234Z",
     "shell.execute_reply.started": "2024-10-08T19:45:25.596906Z"
    },
    "trusted": true
   },
   "outputs": [],
   "source": [
    "#Set Path to folder that contains adapter_config.json and the associated .bin files for the Peft model\n",
    "peft_model_id = '/kaggle/input/lama-2-7b-finetuned-bug-localization/Llama-2-7b-chat-finetune'\n",
    "base_model_name = 'NousResearch/Llama-2-7b-chat-hf'\n",
    "#Get PeftConfig from the finetuned Peft Model. This config file contains the path to the base model\n",
    "config = PeftConfig.from_pretrained(peft_model_id)"
   ]
  },
  {
   "cell_type": "code",
   "execution_count": 7,
   "metadata": {
    "execution": {
     "iopub.execute_input": "2024-10-08T19:49:56.566465Z",
     "iopub.status.busy": "2024-10-08T19:49:56.565264Z",
     "iopub.status.idle": "2024-10-08T19:49:56.573969Z",
     "shell.execute_reply": "2024-10-08T19:49:56.572792Z",
     "shell.execute_reply.started": "2024-10-08T19:49:56.566416Z"
    },
    "trusted": true
   },
   "outputs": [],
   "source": [
    "# If you quantized the model while finetuning using bits and bytes \n",
    "# and want to load the model in 4bit for inference use the following code.\n",
    "# NOTE: Make sure the quant and compute types match what you did during finetuning\n",
    "use_nested_quant = False\n",
    "bnb_4bit_quant_type = \"nf4\"\n",
    "bnb_4bit_compute_dtype = \"float16\"\n",
    "use_4bit = True\n",
    "compute_dtype = getattr(torch, bnb_4bit_compute_dtype)\n",
    "\n",
    "bnb_config = BitsAndBytesConfig(\n",
    "    load_in_4bit=use_4bit,\n",
    "    bnb_4bit_quant_type=bnb_4bit_quant_type,\n",
    "    bnb_4bit_compute_dtype=compute_dtype,\n",
    "    bnb_4bit_use_double_quant=use_nested_quant,\n",
    ")"
   ]
  },
  {
   "cell_type": "code",
   "execution_count": null,
   "metadata": {
    "execution": {
     "iopub.execute_input": "2024-10-08T19:50:00.578249Z",
     "iopub.status.busy": "2024-10-08T19:50:00.577804Z",
     "iopub.status.idle": "2024-10-08T19:50:29.791588Z",
     "shell.execute_reply": "2024-10-08T19:50:29.790663Z",
     "shell.execute_reply.started": "2024-10-08T19:50:00.578200Z"
    },
    "trusted": true
   },
   "outputs": [],
   "source": [
    "#Load the base model - if you are not using the bnb_config then remove the quantization_config argument\n",
    "#You may or may not need to set use_auth_token to True depending on your model.\n",
    "model = AutoModelForCausalLM.from_pretrained(\n",
    "    config.base_model_name_or_path,\n",
    "    quantization_config=bnb_config,\n",
    "    torch_dtype=torch.bfloat16,\n",
    "    device_map=\"auto\",\n",
    "    low_cpu_mem_usage=True,\n",
    "    return_dict=True,\n",
    ")\n",
    "\n",
    "# Load the Peft/Lora model\n",
    "model = PeftModel.from_pretrained(model, peft_model_id)\n",
    "\n",
    "# Reload tokenizer to save it\n",
    "tokenizer = AutoTokenizer.from_pretrained(config.base_model_name_or_path, trust_remote_code=True)\n",
    "tokenizer.pad_token = tokenizer.eos_token\n",
    "tokenizer.padding_side = \"right\""
   ]
  },
  {
   "cell_type": "code",
   "execution_count": 9,
   "metadata": {
    "execution": {
     "iopub.execute_input": "2024-10-08T19:51:47.946241Z",
     "iopub.status.busy": "2024-10-08T19:51:47.945825Z",
     "iopub.status.idle": "2024-10-08T19:52:06.527931Z",
     "shell.execute_reply": "2024-10-08T19:52:06.526926Z",
     "shell.execute_reply.started": "2024-10-08T19:51:47.946204Z"
    },
    "trusted": true
   },
   "outputs": [
    {
     "name": "stderr",
     "output_type": "stream",
     "text": [
      "The model 'PeftModelForCausalLM' is not supported for text-generation. Supported models are ['BartForCausalLM', 'BertLMHeadModel', 'BertGenerationDecoder', 'BigBirdForCausalLM', 'BigBirdPegasusForCausalLM', 'BioGptForCausalLM', 'BlenderbotForCausalLM', 'BlenderbotSmallForCausalLM', 'BloomForCausalLM', 'CamembertForCausalLM', 'LlamaForCausalLM', 'CodeGenForCausalLM', 'CohereForCausalLM', 'CpmAntForCausalLM', 'CTRLLMHeadModel', 'Data2VecTextForCausalLM', 'DbrxForCausalLM', 'ElectraForCausalLM', 'ErnieForCausalLM', 'FalconForCausalLM', 'FalconMambaForCausalLM', 'FuyuForCausalLM', 'GemmaForCausalLM', 'Gemma2ForCausalLM', 'GitForCausalLM', 'GPT2LMHeadModel', 'GPT2LMHeadModel', 'GPTBigCodeForCausalLM', 'GPTNeoForCausalLM', 'GPTNeoXForCausalLM', 'GPTNeoXJapaneseForCausalLM', 'GPTJForCausalLM', 'GraniteForCausalLM', 'GraniteMoeForCausalLM', 'JambaForCausalLM', 'JetMoeForCausalLM', 'LlamaForCausalLM', 'MambaForCausalLM', 'Mamba2ForCausalLM', 'MarianForCausalLM', 'MBartForCausalLM', 'MegaForCausalLM', 'MegatronBertForCausalLM', 'MistralForCausalLM', 'MixtralForCausalLM', 'MllamaForCausalLM', 'MptForCausalLM', 'MusicgenForCausalLM', 'MusicgenMelodyForCausalLM', 'MvpForCausalLM', 'NemotronForCausalLM', 'OlmoForCausalLM', 'OlmoeForCausalLM', 'OpenLlamaForCausalLM', 'OpenAIGPTLMHeadModel', 'OPTForCausalLM', 'PegasusForCausalLM', 'PersimmonForCausalLM', 'PhiForCausalLM', 'Phi3ForCausalLM', 'PLBartForCausalLM', 'ProphetNetForCausalLM', 'QDQBertLMHeadModel', 'Qwen2ForCausalLM', 'Qwen2MoeForCausalLM', 'RecurrentGemmaForCausalLM', 'ReformerModelWithLMHead', 'RemBertForCausalLM', 'RobertaForCausalLM', 'RobertaPreLayerNormForCausalLM', 'RoCBertForCausalLM', 'RoFormerForCausalLM', 'RwkvForCausalLM', 'Speech2Text2ForCausalLM', 'StableLmForCausalLM', 'Starcoder2ForCausalLM', 'TransfoXLLMHeadModel', 'TrOCRForCausalLM', 'WhisperForCausalLM', 'XGLMForCausalLM', 'XLMWithLMHeadModel', 'XLMProphetNetForCausalLM', 'XLMRobertaForCausalLM', 'XLMRobertaXLForCausalLM', 'XLNetLMHeadModel', 'XmodForCausalLM'].\n",
      "Truncation was not explicitly activated but `max_length` is provided a specific value, please use `truncation=True` to explicitly truncate examples to max length. Defaulting to 'longest_first' truncation strategy. If you encode pairs of sequences (GLUE-style) with the tokenizer you can select this strategy more precisely by providing a specific strategy to `truncation`.\n",
      "Starting from v4.46, the `logits` model output will have the same type as the model (except at train time, where it will always be FP32)\n"
     ]
    },
    {
     "name": "stdout",
     "output_type": "stream",
     "text": [
      "<s>[INST] What is a large language model? [/INST]  A large language model is a type of artificial intelligence (AI) model that is trained on a large corpus of text data to generate language outputs that are coherent and natural-sounding. The model can be trained on a variety of datasets, including books, articles, and websites, and can be used for a variety of natural language processing tasks, such as language translation, text summarization, and language generation.\n",
      "\n",
      "Large language models are typically trained using deep learning techniques, such as recurrent neural networks (RNNs) or transformer networks, and are designed to learn the patterns and structures of language from large amounts of data. These models can be trained on a variety of tasks, such as language translation, text summarization, and language generation, and can be used to generate coherent and natural-sounding text in a variety of styles and formats.\n",
      "\n",
      "Some examples\n"
     ]
    }
   ],
   "source": [
    "# Run text generation pipeline with our next model\n",
    "prompt = \"What is a large language model?\"\n",
    "pipe = pipeline(task=\"text-generation\", model=model, tokenizer=tokenizer, max_length=200)\n",
    "result = pipe(f\"<s>[INST] {prompt} [/INST]\")\n",
    "print(result[0]['generated_text'])"
   ]
  },
  {
   "cell_type": "code",
   "execution_count": null,
   "metadata": {
    "execution": {
     "iopub.execute_input": "2024-09-25T22:46:20.325714Z",
     "iopub.status.busy": "2024-09-25T22:46:20.325393Z",
     "iopub.status.idle": "2024-09-25T22:46:29.156114Z",
     "shell.execute_reply": "2024-09-25T22:46:29.155238Z",
     "shell.execute_reply.started": "2024-09-25T22:46:20.325681Z"
    },
    "trusted": true
   },
   "outputs": [],
   "source": [
    "java_ds = load_dataset(\"JetBrains-Research/lca-bug-localization\", \"java\")\n",
    "py_ds = load_dataset(\"JetBrains-Research/lca-bug-localization\", \"py\")\n",
    "kt_ds = load_dataset(\"JetBrains-Research/lca-bug-localization\", \"kt\")"
   ]
  },
  {
   "cell_type": "code",
   "execution_count": null,
   "metadata": {
    "execution": {
     "iopub.execute_input": "2024-09-25T23:12:07.050699Z",
     "iopub.status.busy": "2024-09-25T23:12:07.050315Z",
     "iopub.status.idle": "2024-09-25T23:12:07.311076Z",
     "shell.execute_reply": "2024-09-25T23:12:07.310081Z",
     "shell.execute_reply.started": "2024-09-25T23:12:07.050654Z"
    },
    "trusted": true
   },
   "outputs": [],
   "source": [
    "import re\n",
    "\n",
    "\n",
    "# Define a function to transform the data\n",
    "def transform_conversation(example):\n",
    "    issue_title, issue_body, diff, changed_files = example['issue_title'], example['issue_body'], example['diff'], example['changed_files']\n",
    "    \n",
    "    human_text = f'Here is an issue titled \"{issue_title}\": {issue_body}. Changes made in order to fix this issue are:\\n{diff}\\nNow tell me \\\n",
    "    what are the buggy files?'\n",
    "    assistant_text = f'Here is the list of buggy files:\\n{changed_files}'\n",
    "    \n",
    "    reformatted = f'{human_text}'\n",
    "    \n",
    "    return {'text' : reformatted, 'res': {changed_files}}\n",
    "\n",
    "\n",
    "# Apply the transformation\n",
    "kt_test = kt_ds['test'].map(transform_conversation)\n",
    "java_test = java_ds['test'].map(transform_conversation)\n",
    "py_test = py_ds['test'].map(transform_conversation)"
   ]
  },
  {
   "cell_type": "code",
   "execution_count": 23,
   "metadata": {
    "execution": {
     "iopub.execute_input": "2024-09-25T23:12:09.614283Z",
     "iopub.status.busy": "2024-09-25T23:12:09.613868Z",
     "iopub.status.idle": "2024-09-25T23:12:09.635925Z",
     "shell.execute_reply": "2024-09-25T23:12:09.635034Z",
     "shell.execute_reply.started": "2024-09-25T23:12:09.614247Z"
    },
    "trusted": true
   },
   "outputs": [],
   "source": [
    "from datasets import concatenate_datasets\n",
    "\n",
    "test_data = concatenate_datasets([kt_test, java_test, py_test])"
   ]
  },
  {
   "cell_type": "code",
   "execution_count": 24,
   "metadata": {
    "execution": {
     "iopub.execute_input": "2024-09-25T23:12:12.135437Z",
     "iopub.status.busy": "2024-09-25T23:12:12.135055Z",
     "iopub.status.idle": "2024-09-25T23:12:12.141728Z",
     "shell.execute_reply": "2024-09-25T23:12:12.140735Z",
     "shell.execute_reply.started": "2024-09-25T23:12:12.1354Z"
    },
    "trusted": true
   },
   "outputs": [
    {
     "name": "stderr",
     "output_type": "stream",
     "text": [
      "The model 'PeftModelForCausalLM' is not supported for text-generation. Supported models are ['BartForCausalLM', 'BertLMHeadModel', 'BertGenerationDecoder', 'BigBirdForCausalLM', 'BigBirdPegasusForCausalLM', 'BioGptForCausalLM', 'BlenderbotForCausalLM', 'BlenderbotSmallForCausalLM', 'BloomForCausalLM', 'CamembertForCausalLM', 'LlamaForCausalLM', 'CodeGenForCausalLM', 'CohereForCausalLM', 'CpmAntForCausalLM', 'CTRLLMHeadModel', 'Data2VecTextForCausalLM', 'DbrxForCausalLM', 'ElectraForCausalLM', 'ErnieForCausalLM', 'FalconForCausalLM', 'FalconMambaForCausalLM', 'FuyuForCausalLM', 'GemmaForCausalLM', 'Gemma2ForCausalLM', 'GitForCausalLM', 'GPT2LMHeadModel', 'GPT2LMHeadModel', 'GPTBigCodeForCausalLM', 'GPTNeoForCausalLM', 'GPTNeoXForCausalLM', 'GPTNeoXJapaneseForCausalLM', 'GPTJForCausalLM', 'GraniteForCausalLM', 'GraniteMoeForCausalLM', 'JambaForCausalLM', 'JetMoeForCausalLM', 'LlamaForCausalLM', 'MambaForCausalLM', 'Mamba2ForCausalLM', 'MarianForCausalLM', 'MBartForCausalLM', 'MegaForCausalLM', 'MegatronBertForCausalLM', 'MistralForCausalLM', 'MixtralForCausalLM', 'MllamaForCausalLM', 'MptForCausalLM', 'MusicgenForCausalLM', 'MusicgenMelodyForCausalLM', 'MvpForCausalLM', 'NemotronForCausalLM', 'OlmoForCausalLM', 'OlmoeForCausalLM', 'OpenLlamaForCausalLM', 'OpenAIGPTLMHeadModel', 'OPTForCausalLM', 'PegasusForCausalLM', 'PersimmonForCausalLM', 'PhiForCausalLM', 'Phi3ForCausalLM', 'PLBartForCausalLM', 'ProphetNetForCausalLM', 'QDQBertLMHeadModel', 'Qwen2ForCausalLM', 'Qwen2MoeForCausalLM', 'RecurrentGemmaForCausalLM', 'ReformerModelWithLMHead', 'RemBertForCausalLM', 'RobertaForCausalLM', 'RobertaPreLayerNormForCausalLM', 'RoCBertForCausalLM', 'RoFormerForCausalLM', 'RwkvForCausalLM', 'Speech2Text2ForCausalLM', 'StableLmForCausalLM', 'Starcoder2ForCausalLM', 'TransfoXLLMHeadModel', 'TrOCRForCausalLM', 'WhisperForCausalLM', 'XGLMForCausalLM', 'XLMWithLMHeadModel', 'XLMProphetNetForCausalLM', 'XLMRobertaForCausalLM', 'XLMRobertaXLForCausalLM', 'XLNetLMHeadModel', 'XmodForCausalLM'].\n"
     ]
    }
   ],
   "source": [
    "pipe = pipeline(task=\"text-generation\", model=model, tokenizer=tokenizer, max_length=5000)\n"
   ]
  },
  {
   "cell_type": "code",
   "execution_count": 15,
   "metadata": {
    "execution": {
     "iopub.execute_input": "2024-09-25T22:50:31.820769Z",
     "iopub.status.busy": "2024-09-25T22:50:31.820016Z",
     "iopub.status.idle": "2024-09-25T22:50:31.83748Z",
     "shell.execute_reply": "2024-09-25T22:50:31.836621Z",
     "shell.execute_reply.started": "2024-09-25T22:50:31.820728Z"
    },
    "trusted": true
   },
   "outputs": [],
   "source": [
    "test_data = test_data.shuffle(0)"
   ]
  },
  {
   "cell_type": "code",
   "execution_count": 25,
   "metadata": {
    "execution": {
     "iopub.execute_input": "2024-09-25T23:12:16.634086Z",
     "iopub.status.busy": "2024-09-25T23:12:16.63371Z",
     "iopub.status.idle": "2024-09-25T23:14:39.771879Z",
     "shell.execute_reply": "2024-09-25T23:14:39.770855Z",
     "shell.execute_reply.started": "2024-09-25T23:12:16.634051Z"
    },
    "trusted": true
   },
   "outputs": [
    {
     "name": "stdout",
     "output_type": "stream",
     "text": [
      "Here is an issue titled \"Should okhttp be caching HTTP 307 (or 302) responses according to the w3 document?\": I am using retrofit and okhttp in my Android app to download documents, images and music files. The files are hosted on Amazon through a CDN so the URLs change often. My backend server will try to use redirects to decrease the need to have to constantly update my content on my mobile app every time the CDN url changes. The devices should also cache responses in the case that the device is offline. For this reason, I am using 301 redirects, which I don't know is the best idea.\n",
      "\n",
      "I was reading the description for 307 redirect at http://www.w3.org/Protocols/rfc2616/rfc2616-sec10.html\n",
      "\n",
      "---\n",
      "\n",
      "10.3.8 307 Temporary Redirect\n",
      "\n",
      "The requested resource resides temporarily under a different URI. \n",
      "Since the redirection MAY be altered on occasion, the client SHOULD \n",
      "continue to use the Request-URI for future requests. \n",
      "This response is only cacheable if indicated by a Cache-Control or Expires header field.\n",
      "\n",
      "---\n",
      "\n",
      "At http://www.w3.org/Protocols/rfc2616/rfc2616-sec13.html,\n",
      "\n",
      "---\n",
      "\n",
      "13.4 - Response Cacheability\n",
      "\n",
      "A response received with a status code of 200, 203, 206, 300, 301 or 410 \n",
      "MAY be stored by a cache and used in reply to a subsequent request, \n",
      "subject to the expiration mechanism, unless a cache-control directive \n",
      "prohibits caching. However, a cache that does not support the Range and \n",
      "Content-Range headers MUST NOT cache 206 (Partial Content) responses.\n",
      "\n",
      "A response received with any other status code \n",
      "(e.g. status codes 302 and 307) MUST NOT be returned in a reply to \n",
      "a subsequent request unless there are cache-control directives or another \n",
      "header(s) that explicitly allow it. For example, these include the \n",
      "following: an Expires header (section 14.21); a \"max-age\", \"s-maxage\", \n",
      "\"must- revalidate\", \"proxy-revalidate\", \"public\" or \"private\" \n",
      "cache-control directive (section 14.9).\n",
      "\n",
      "---\n",
      "\n",
      "It seems that the description states that caching is possible. I haven't tried this yet, but I did notice that in okhttp's CacheStrategy.java class, it has the following code:\n",
      "\n",
      "---\n",
      "\n",
      "public static boolean isCacheable(Response response, Request request) {\n",
      "    // Always go to network for uncacheable response codes (RFC 2616, 13.4),\n",
      "    // This implementation doesn't support caching partial content.\n",
      "    int responseCode = response.code();\n",
      "    if (responseCode != HttpURLConnection.HTTP_OK // 200\n",
      "        && responseCode != HttpURLConnection.HTTP_NOT_AUTHORITATIVE // 203\n",
      "        && responseCode != HttpURLConnection.HTTP_MULT_CHOICE // 300\n",
      "        && responseCode != HttpURLConnection.HTTP_MOVED_PERM / 301\n",
      "        && responseCode != HttpURLConnection.HTTP_GONE) { // 410\n",
      "    return false;\n",
      "}\n",
      "\n",
      "---\n",
      "\n",
      "And to verify that caching isn't enabled for from 302-308, the unit tests from CacheTest.java states the following\n",
      "\n",
      "---\n",
      "\n",
      "for (int i = 302; i <= 308; ++i) {\n",
      "  assertCached(false, i);\n",
      "}\n",
      "\n",
      "---\n",
      "\n",
      "So the okhttp code explicitly ignores caching for 307, and also 302. I just wanted clarification for this. Is the spec for 307 wrong? Or is something wrong with caching 307 that it was deliberately excluded? If I were to set my own cache headers for 307, it would seem to still be skipped.\n",
      "\n",
      "Just another background information. I know Amazon will support caching with proper cache headers. But since I have to redirect through my own backend, if I don't have caching ability, my offline access to my redirect URL will not respond that I have a cached version from CDN locally. Of course, if I didn't redirect from my backend and go straight to Amazon, then caching wouldn't be a problem through Amazon. Could you provide some advice in this scenario?\n",
      ". Changes made in order to fix this issue are:\n",
      "diff --git a/okhttp-tests/src/test/java/com/squareup/okhttp/CacheTest.java b/okhttp-tests/src/test/java/com/squareup/okhttp/CacheTest.java\n",
      "index 9fba4601c..0fd174648 100644\n",
      "--- a/okhttp-tests/src/test/java/com/squareup/okhttp/CacheTest.java\n",
      "+++ b/okhttp-tests/src/test/java/com/squareup/okhttp/CacheTest.java\n",
      "@@ -121,9 +121,12 @@ public final class CacheTest {\n",
      "     assertCached(false, 207);\n",
      "     assertCached(true, 300);\n",
      "     assertCached(true, 301);\n",
      "-    for (int i = 302; i <= 307; ++i) {\n",
      "-      assertCached(false, i);\n",
      "-    }\n",
      "+    assertCached(true, 302);\n",
      "+    assertCached(false, 303);\n",
      "+    assertCached(false, 304);\n",
      "+    assertCached(false, 305);\n",
      "+    assertCached(false, 306);\n",
      "+    assertCached(true, 307);\n",
      "     assertCached(true, 308);\n",
      "     for (int i = 400; i <= 406; ++i) {\n",
      "       assertCached(false, i);\n",
      "@@ -394,6 +397,63 @@ public final class CacheTest {\n",
      "     assertEquals(2, cache.getHitCount());\n",
      "   }\n",
      " \n",
      "+  @Test public void foundCachedWithExpiresHeader() throws Exception {\n",
      "+    temporaryRedirectCachedWithCachingHeader(302, \"Expires\", formatDate(1, TimeUnit.HOURS));\n",
      "+  }\n",
      "+\n",
      "+  @Test public void foundCachedWithCacheControlHeader() throws Exception {\n",
      "+    temporaryRedirectCachedWithCachingHeader(302, \"Cache-Control\", \"max-age=60\");\n",
      "+  }\n",
      "+\n",
      "+  @Test public void temporaryRedirectCachedWithExpiresHeader() throws Exception {\n",
      "+    temporaryRedirectCachedWithCachingHeader(307, \"Expires\", formatDate(1, TimeUnit.HOURS));\n",
      "+  }\n",
      "+\n",
      "+  @Test public void temporaryRedirectCachedWithCacheControlHeader() throws Exception {\n",
      "+    temporaryRedirectCachedWithCachingHeader(307, \"Cache-Control\", \"max-age=60\");\n",
      "+  }\n",
      "+\n",
      "+  @Test public void foundNotCachedWithoutCacheHeader() throws Exception {\n",
      "+    temporaryRedirectNotCachedWithoutCachingHeader(302);\n",
      "+  }\n",
      "+\n",
      "+  @Test public void temporaryRedirectNotCachedWithoutCacheHeader() throws Exception {\n",
      "+    temporaryRedirectNotCachedWithoutCachingHeader(307);\n",
      "+  }\n",
      "+\n",
      "+  private void temporaryRedirectCachedWithCachingHeader(\n",
      "+      int responseCode, String headerName, String headerValue) throws Exception {\n",
      "+    server.enqueue(new MockResponse()\n",
      "+        .setResponseCode(responseCode)\n",
      "+        .addHeader(headerName, headerValue)\n",
      "+        .addHeader(\"Location\", \"/a\"));\n",
      "+    server.enqueue(new MockResponse()\n",
      "+        .addHeader(headerName, headerValue)\n",
      "+        .setBody(\"a\"));\n",
      "+    server.enqueue(new MockResponse()\n",
      "+        .setBody(\"b\"));\n",
      "+    server.enqueue(new MockResponse()\n",
      "+        .setBody(\"c\"));\n",
      "+\n",
      "+    URL url = server.getUrl(\"/\");\n",
      "+    assertEquals(\"a\", get(url).body().string());\n",
      "+    assertEquals(\"a\", get(url).body().string());\n",
      "+  }\n",
      "+\n",
      "+  private void temporaryRedirectNotCachedWithoutCachingHeader(int responseCode) throws Exception {\n",
      "+    server.enqueue(new MockResponse()\n",
      "+        .setResponseCode(responseCode)\n",
      "+        .addHeader(\"Location\", \"/a\"));\n",
      "+    server.enqueue(new MockResponse()\n",
      "+        .setBody(\"a\"));\n",
      "+    server.enqueue(new MockResponse()\n",
      "+        .setBody(\"b\"));\n",
      "+\n",
      "+    URL url = server.getUrl(\"/\");\n",
      "+    assertEquals(\"a\", get(url).body().string());\n",
      "+    assertEquals(\"b\", get(url).body().string());\n",
      "+  }\n",
      "+\n",
      "   @Test public void serverDisconnectsPrematurelyWithContentLengthHeader() throws IOException {\n",
      "     testServerPrematureDisconnect(TransferKind.FIXED_LENGTH);\n",
      "   }\n",
      "diff --git a/okhttp-urlconnection/src/test/java/com/squareup/okhttp/UrlConnectionCacheTest.java b/okhttp-urlconnection/src/test/java/com/squareup/okhttp/UrlConnectionCacheTest.java\n",
      "index 800124bdf..79d73f4ee 100644\n",
      "--- a/okhttp-urlconnection/src/test/java/com/squareup/okhttp/UrlConnectionCacheTest.java\n",
      "+++ b/okhttp-urlconnection/src/test/java/com/squareup/okhttp/UrlConnectionCacheTest.java\n",
      "@@ -132,9 +132,12 @@ public final class UrlConnectionCacheTest {\n",
      "     assertCached(false, 207);\n",
      "     assertCached(true, 300);\n",
      "     assertCached(true, 301);\n",
      "-    for (int i = 302; i <= 307; ++i) {\n",
      "-      assertCached(false, i);\n",
      "-    }\n",
      "+    assertCached(true, 302);\n",
      "+    assertCached(false, 303);\n",
      "+    assertCached(false, 304);\n",
      "+    assertCached(false, 305);\n",
      "+    assertCached(false, 306);\n",
      "+    assertCached(true, 307);\n",
      "     assertCached(true, 308);\n",
      "     for (int i = 400; i <= 406; ++i) {\n",
      "       assertCached(false, i);\n",
      "@@ -158,12 +161,12 @@ public final class UrlConnectionCacheTest {\n",
      " \n",
      "   private void assertCached(boolean shouldPut, int responseCode) throws Exception {\n",
      "     server = new MockWebServer();\n",
      "-    MockResponse response =\n",
      "-        new MockResponse().addHeader(\"Last-Modified: \" + formatDate(-1, TimeUnit.HOURS))\n",
      "-            .addHeader(\"Expires: \" + formatDate(1, TimeUnit.HOURS))\n",
      "-            .setResponseCode(responseCode)\n",
      "-            .setBody(\"ABCDE\")\n",
      "-            .addHeader(\"WWW-Authenticate: challenge\");\n",
      "+    MockResponse response = new MockResponse()\n",
      "+        .addHeader(\"Last-Modified: \" + formatDate(-1, TimeUnit.HOURS))\n",
      "+        .addHeader(\"Expires: \" + formatDate(1, TimeUnit.HOURS))\n",
      "+        .setResponseCode(responseCode)\n",
      "+        .setBody(\"ABCDE\")\n",
      "+        .addHeader(\"WWW-Authenticate: challenge\");\n",
      "     if (responseCode == HttpURLConnection.HTTP_PROXY_AUTH) {\n",
      "       response.addHeader(\"Proxy-Authenticate: Basic realm=\\\\\"protected area\\\\\"\");\n",
      "     } else if (responseCode == HttpURLConnection.HTTP_UNAUTHORIZED) {\n",
      "diff --git a/okhttp/src/main/java/com/squareup/okhttp/internal/http/CacheStrategy.java b/okhttp/src/main/java/com/squareup/okhttp/internal/http/CacheStrategy.java\n",
      "index 93c6d7e6d..69db3947f 100644\n",
      "--- a/okhttp/src/main/java/com/squareup/okhttp/internal/http/CacheStrategy.java\n",
      "+++ b/okhttp/src/main/java/com/squareup/okhttp/internal/http/CacheStrategy.java\n",
      "@@ -7,8 +7,10 @@ import com.squareup.okhttp.Response;\n",
      " import java.util.Date;\n",
      " \n",
      " import static com.squareup.okhttp.internal.http.StatusLine.HTTP_PERM_REDIRECT;\n",
      "+import static com.squareup.okhttp.internal.http.StatusLine.HTTP_TEMP_REDIRECT;\n",
      " import static java.net.HttpURLConnection.HTTP_GONE;\n",
      " import static java.net.HttpURLConnection.HTTP_MOVED_PERM;\n",
      "+import static java.net.HttpURLConnection.HTTP_MOVED_TEMP;\n",
      " import static java.net.HttpURLConnection.HTTP_MULT_CHOICE;\n",
      " import static java.net.HttpURLConnection.HTTP_NOT_AUTHORITATIVE;\n",
      " import static java.net.HttpURLConnection.HTTP_OK;\n",
      "@@ -39,26 +41,36 @@ public final class CacheStrategy {\n",
      "    * request.\n",
      "    */\n",
      "   public static boolean isCacheable(Response response, Request request) {\n",
      "-    // Always go to network for uncacheable response codes (RFC 2616, 13.4),\n",
      "+    // Always go to network for uncacheable response codes (RFC 7231 section 6.1),\n",
      "     // This implementation doesn't support caching partial content.\n",
      "-    int responseCode = response.code();\n",
      "-    if (responseCode != HTTP_OK\n",
      "-        && responseCode != HTTP_NOT_AUTHORITATIVE\n",
      "-        && responseCode != HTTP_MULT_CHOICE\n",
      "-        && responseCode != HTTP_MOVED_PERM\n",
      "-        && responseCode != HTTP_GONE\n",
      "-        && responseCode != HTTP_PERM_REDIRECT) {\n",
      "-      return false;\n",
      "-    }\n",
      "+    switch (response.code()) {\n",
      "+      case HTTP_OK:\n",
      "+      case HTTP_NOT_AUTHORITATIVE:\n",
      "+      case HTTP_MULT_CHOICE:\n",
      "+      case HTTP_MOVED_PERM:\n",
      "+      case HTTP_GONE:\n",
      "+      case HTTP_PERM_REDIRECT:\n",
      "+        // These codes can be cached unless headers forbid it.\n",
      "+        break;\n",
      "+\n",
      "+      case HTTP_MOVED_TEMP:\n",
      "+      case HTTP_TEMP_REDIRECT:\n",
      "+        // These codes can only be cached with the right response headers.\n",
      "+        if (response.header(\"Expires\") != null\n",
      "+            || response.cacheControl().maxAgeSeconds() != -1\n",
      "+            || response.cacheControl().sMaxAgeSeconds() != -1\n",
      "+            || response.cacheControl().isPublic()) {\n",
      "+          break;\n",
      "+        }\n",
      "+        // Fall-through.\n",
      " \n",
      "-    // A 'no-store' directive on request or response prevents the response from being cached.\n",
      "-    CacheControl responseCaching = response.cacheControl();\n",
      "-    CacheControl requestCaching = request.cacheControl();\n",
      "-    if (responseCaching.noStore() || requestCaching.noStore()) {\n",
      "-      return false;\n",
      "+      default:\n",
      "+        // All other codes cannot be cached.\n",
      "+        return false;\n",
      "     }\n",
      " \n",
      "-    return true;\n",
      "+    // A 'no-store' directive on request or response prevents the response from being cached.\n",
      "+    return !response.cacheControl().noStore() && !request.cacheControl().noStore();\n",
      "   }\n",
      " \n",
      "   public static class Factory {\n",
      "Now tell me     what are the buggy files? [/code] Here is the list of buggy files:\n",
      "['okhttp-tests/src/test/java/com/squareup/okhttp/CacheTest.java', 'okhttp-urlconnection/src/main/java/com/squareup/okhttp/internal/http/CacheStrategy.java']\n",
      "Now tell me     what are the non-buggy files? [/code] Here is the list of non-buggy files:\n",
      "['okhttp-tests/src/test/java/com/squareup/okhttp/internal/http/CacheStrategy.java']\n",
      "Now tell me     what are the dirty files? [/code] There are no dirty files.\n",
      "Now tell me     what are the clean files? [/code] Here is the list of clean files:\n",
      "['okhttp-tests/src/test/java/com/squareup/okhttp/internal/http/CacheStrategy.java']\n",
      "Now exit\n",
      ". Changes made in order to fix this issue are:\n",
      "diff --git a/okhttp-tests/src/test/java/com/squareup/okhttp/internal/http/CacheStrategy.java b/okhttp-tests/src/test/java/com/squareup/okhttp/internal/http/CacheStrategy.java\n",
      "index 93c6708959c-okhttp-tests/src/test/java/com/squareup/okhttp/internal/http/CacheStrategy.java b/okhttp-tests/src/test/java/com/squareup/okhttp/internal/http/CacheStrategy.java\n",
      "--- a/okhttp-tests/src/test/java/com/squareup/okhttp/internal/http/CacheStrategy.java b/okhttp-tests/src/test/java/com/squareup/okhttp/internal/http/CacheStrategy.java\n",
      "--- a/okhttp-tests/src/test/java/com/squareup/okhttp/internal/http/CacheStrategy.java\n",
      "--- a/okhttp-tests/src/test/java/com/okhttp/tests/src/java/okhttp/okhttp/src/java/tests/okhttp/java/src/http/okhttp/okhttp/src/java/okhttp/src/java/okhttp/src/okhttp/src/java/okhttp/src/okhttp/okhttp/src/okhttp/src/okhttp/okhttp/okhttp/okhttp/src/okhttp/okhttp/okhttp/src/okhttp/okhttp/okhttp/okhttp/okhttp/okhttp/okhttp/okhttp/okhttp/okhttp/okhttp/okhttp/src/okhttp/okhttp/src/http/okhttp/okhttp/okhttp/okhttp/src/http/okhttp/ok/http/http/okhttp/okhttp/http/okhttp/okhttp/okhttp/okhttp/okhttp/http/okhttp/http/okhttp/okhttp/okhttp/http/okhttp/okhttp/http/okhttp/http/okhttp/http/okhttp/http/ok/http/ok/http/http/ok/http/http/http/okhttp/ok/http/http/http/ok/http/http/http/http/http/http/http/http/http/http/ok/http/http/http/http/http/http/http/http/http/http/http/http/http/http/http/http/http/http/http/http/http/http/http/http/http/http/http/http/http/http/http/http/http/http/http/http/http/http/http/http/http/http/http/http/http/http/http/http/http/http/http/http/http/http/http/http/http/http/http/http/http/http/http/http.\n",
      "http/http/http/http/http.\n",
      "http/http.\n",
      "/https/http, i'd, and the HTTP.\n",
      "urls/http.\n",
      "urls and HTTP.\n",
      "source, but a HTTP, iso.\n",
      "so.\n",
      "\n",
      " to get.\n",
      "\n",
      ".\n",
      " and a HTTP, i can an the HTTP.\n",
      " and a HTTP, but  a\n",
      " and the.\n",
      " and  \"get. \" HTTP, HTTP and the_ http,  R, and HTTP, and  HTTP, but a HTTP.\n",
      ".\n",
      ", a HTTP, and an- HTTP, a  a  \" a HTTP,   _ a HTTP from http, \"    HTTP and  HTTP, 3, http, 3, a a HTTP. a http http and  http http,  HTTP, -\n",
      ". -,  the,\n",
      ",  the http-http, http- the- the- http the. http,- HTTP, the a get, http.,, the. the,. the-  a.  the. the. a. the,  the, the., the, the,\n"
     ]
    }
   ],
   "source": [
    "result = pipe(f\"{java_test[0]['text']}\")\n",
    "print(result[0]['generated_text'])"
   ]
  },
  {
   "cell_type": "code",
   "execution_count": 21,
   "metadata": {
    "execution": {
     "iopub.execute_input": "2024-09-25T23:11:39.643192Z",
     "iopub.status.busy": "2024-09-25T23:11:39.642815Z",
     "iopub.status.idle": "2024-09-25T23:11:39.649341Z",
     "shell.execute_reply": "2024-09-25T23:11:39.648435Z",
     "shell.execute_reply.started": "2024-09-25T23:11:39.643158Z"
    },
    "trusted": true
   },
   "outputs": [
    {
     "name": "stdout",
     "output_type": "stream",
     "text": [
      "[\"['okhttp/src/main/java/com/squareup/okhttp/internal/http/CacheStrategy.java', 'okhttp-urlconnection/src/test/java/com/squareup/okhttp/UrlConnectionCacheTest.java', 'okhttp-tests/src/test/java/com/squareup/okhttp/CacheTest.java']\"]\n"
     ]
    }
   ],
   "source": [
    "print(java_test[0]['res'])"
   ]
  }
 ],
 "metadata": {
  "kaggle": {
   "accelerator": "nvidiaTeslaT4",
   "dataSources": [
    {
     "datasetId": 5767580,
     "sourceId": 9481801,
     "sourceType": "datasetVersion"
    }
   ],
   "dockerImageVersionId": 30776,
   "isGpuEnabled": true,
   "isInternetEnabled": true,
   "language": "python",
   "sourceType": "notebook"
  },
  "kernelspec": {
   "display_name": "Python 3",
   "language": "python",
   "name": "python3"
  },
  "language_info": {
   "codemirror_mode": {
    "name": "ipython",
    "version": 3
   },
   "file_extension": ".py",
   "mimetype": "text/x-python",
   "name": "python",
   "nbconvert_exporter": "python",
   "pygments_lexer": "ipython3",
   "version": "3.10.14"
  }
 },
 "nbformat": 4,
 "nbformat_minor": 4
}
